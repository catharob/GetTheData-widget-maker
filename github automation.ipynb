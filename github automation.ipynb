{
 "cells": [
  {
   "cell_type": "code",
   "execution_count": 2,
   "metadata": {
    "collapsed": false
   },
   "outputs": [
    {
     "name": "stdout",
     "output_type": "stream",
     "text": [
      "Make the \"Get the Data\" widget code.\n"
     ]
    }
   ],
   "source": [
    "print 'Make the \"Get the Data\" widget code.'"
   ]
  },
  {
   "cell_type": "code",
   "execution_count": 1,
   "metadata": {
    "collapsed": false
   },
   "outputs": [
    {
     "name": "stdout",
     "output_type": "stream",
     "text": [
      "Make the \"Get the Data\" widget code.\n",
      "Enter GitHub ULR of your new folder inside 'Data-for-stories':\n",
      "https://github.com/InsideEnergy/Data-for-stories/tree/master/20150811-fuel-use-AC\n"
     ]
    },
    {
     "data": {
      "text/plain": [
       "[<a class=\"js-directory-link\" href=\"/InsideEnergy/Data-for-stories/blob/master/20150811-fuel-use-AC/README.md\" id=\"04c6e90faac2675aa89e2176d2eec7d8-428bb317930f94d3a174967f86ffa08c04b952d1\" title=\"README.md\">README.md</a>,\n",
       " <a class=\"js-directory-link\" href=\"/InsideEnergy/Data-for-stories/blob/master/20150811-fuel-use-AC/fuel-use-AC.csv\" id=\"cb9409ebfb9b0ad578daea945dfbe21f-d4b1c8f4468160d784451dc933eba65441eaab1d\" title=\"fuel-use-AC.csv\">fuel-use-AC.csv</a>,\n",
       " <a class=\"js-directory-link\" href=\"/InsideEnergy/Data-for-stories/blob/master/20150811-fuel-use-AC/fuel-use-AC.xlsx\" id=\"23bc8c02182b77ef466b2a1ce58bb10b-4c6c7444f11ca245d6cb65a8f2083aa1a9a90efe\" title=\"fuel-use-AC.xlsx\">fuel-use-AC.xlsx</a>]"
      ]
     },
     "execution_count": 1,
     "metadata": {},
     "output_type": "execute_result"
    }
   ],
   "source": [
    "import bs4\n",
    "import requests\n",
    "\n",
    "def makeCode(folder):\n",
    "    x = requests.get(folder)\n",
    "    x.raise_for_status()\n",
    "    gitSoup = bs4.BeautifulSoup(x.text)\n",
    "    fileNames = gitSoup.select('.js-directory-link') #get tag with URL for each file\n",
    "    return fileNames\n",
    "    \n",
    "print 'Make the \"Get the Data\" widget code.'\n",
    "print \"Enter GitHub ULR of your new folder inside 'Data-for-stories':\"\n",
    "myFolder = raw_input()\n",
    "makeCode(myFolder)"
   ]
  },
  {
   "cell_type": "code",
   "execution_count": 3,
   "metadata": {
    "collapsed": false
   },
   "outputs": [
    {
     "name": "stdout",
     "output_type": "stream",
     "text": [
      "Make the \"Get the Data\" widget code.\n",
      "Enter GitHub ULR of your new folder inside 'Data-for-stories':\n",
      "https://github.com/InsideEnergy/Data-for-stories/tree/master/20150811-fuel-use-AC\n",
      "['/InsideEnergy/Data-for-stories/blob/master/20150811-fuel-use-AC/README.md', '/InsideEnergy/Data-for-stories/blob/master/20150811-fuel-use-AC/fuel-use-AC.csv', '/InsideEnergy/Data-for-stories/blob/master/20150811-fuel-use-AC/fuel-use-AC.xlsx']\n"
     ]
    }
   ],
   "source": [
    "import bs4\n",
    "import requests\n",
    "\n",
    "def makeCode(folder):\n",
    "    x = requests.get(folder)\n",
    "    x.raise_for_status()\n",
    "    gitSoup = bs4.BeautifulSoup(x.text)\n",
    "    files = gitSoup.select('.js-directory-link') #get tag with URL for each file\n",
    "    urls = []\n",
    "    for f in files:\n",
    "        urls.append(f.get('href'))\n",
    "    print urls\n",
    "\n",
    "        \n",
    "    \n",
    "print 'Make the \"Get the Data\" widget code.'\n",
    "print \"Enter GitHub ULR of your new folder inside 'Data-for-stories':\"\n",
    "myFolder = raw_input()\n",
    "makeCode(myFolder)"
   ]
  },
  {
   "cell_type": "code",
   "execution_count": 13,
   "metadata": {
    "collapsed": false
   },
   "outputs": [
    {
     "name": "stdout",
     "output_type": "stream",
     "text": [
      "Make the \"Get the Data\" widget code.\n",
      "Enter GitHub ULR of your new folder inside 'Data-for-stories':\n",
      "https://github.com/InsideEnergy/Data-for-stories/tree/master/20150811-fuel-use-AC\n"
     ]
    },
    {
     "data": {
      "text/plain": [
       "['/InsideEnergy/Data-for-stories/blob/master/20150811-fuel-use-AC/fuel-use-AC.csv',\n",
       " '/InsideEnergy/Data-for-stories/blob/master/20150811-fuel-use-AC/fuel-use-AC.xlsx']"
      ]
     },
     "execution_count": 13,
     "metadata": {},
     "output_type": "execute_result"
    }
   ],
   "source": [
    "import bs4\n",
    "import requests\n",
    "\n",
    "def makeCode(folder):\n",
    "    x = requests.get(folder)\n",
    "    x.raise_for_status()\n",
    "    gitSoup = bs4.BeautifulSoup(x.text)\n",
    "    files = gitSoup.select('.js-directory-link') #get tag with URL for each file\n",
    "    urls = []\n",
    "    for f in files:\n",
    "        urls.append(f.get('href')) #put urls into list\n",
    "    # print urls\n",
    "    for u in urls:\n",
    "        if \"README.md\" in u:\n",
    "            urls.remove(u) #get README out of list\n",
    "            return urls\n",
    "    #print urls\n",
    "    for u in urls:\n",
    "        v = u.replace(\"/InsideEnergy/Data-for-stories/blob/master\", \"\")\n",
    "        return urls\n",
    "        \n",
    "    \n",
    "print 'Make the \"Get the Data\" widget code.'\n",
    "print \"Enter GitHub ULR of your new folder inside 'Data-for-stories':\"\n",
    "myFolder = raw_input()\n",
    "makeCode(myFolder)"
   ]
  },
  {
   "cell_type": "code",
   "execution_count": 29,
   "metadata": {
    "collapsed": false
   },
   "outputs": [
    {
     "name": "stdout",
     "output_type": "stream",
     "text": [
      "Make the \"Get the Data\" widget code.\n",
      "Enter GitHub ULR of your new folder inside 'Data-for-stories':\n",
      "https://github.com/InsideEnergy/Data-for-stories/tree/master/20150811-fuel-use-AC\n"
     ]
    },
    {
     "data": {
      "text/plain": [
       "['/20150811-fuel-use-AC/fuel-use-AC.csv',\n",
       " '/20150811-fuel-use-AC/fuel-use-AC.xlsx']"
      ]
     },
     "execution_count": 29,
     "metadata": {},
     "output_type": "execute_result"
    }
   ],
   "source": [
    "import bs4\n",
    "import requests\n",
    "\n",
    "def stripUrls(folder):\n",
    "    x = requests.get(folder)\n",
    "    x.raise_for_status()\n",
    "    gitSoup = bs4.BeautifulSoup(x.text)\n",
    "    files = gitSoup.select('.js-directory-link') #get tag with URL for each file\n",
    "    urls = []\n",
    "    for f in files:\n",
    "        urls.append(f.get('href')) #put urls into list\n",
    "    # print urls\n",
    "    for u in urls:\n",
    "        if \"README.md\" in u:\n",
    "            urls.remove(u) #get README out of list\n",
    "            #return urls\n",
    "    #print urls\n",
    "    halfUrls = []\n",
    "    for v in urls:\n",
    "        if \"/InsideEnergy/Data-for-stories/blob/master\" in v:\n",
    "            w = v.replace(\"/InsideEnergy/Data-for-stories/blob/master\", \"\")\n",
    "            halfUrls.append(w)\n",
    "    return halfUrls\n",
    "        \n",
    "print 'Make the \"Get the Data\" widget code.'\n",
    "print \"Enter GitHub ULR of your new folder inside 'Data-for-stories':\"\n",
    "myFolder = raw_input()\n",
    "stripUrls(myFolder)"
   ]
  },
  {
   "cell_type": "code",
   "execution_count": 55,
   "metadata": {
    "collapsed": false
   },
   "outputs": [
    {
     "name": "stdout",
     "output_type": "stream",
     "text": [
      "Make the \"Get the Data\" widget code.\n",
      "Enter GitHub ULR of your new folder inside 'Data-for-stories':\n",
      "https://github.com/InsideEnergy/Data-for-stories/tree/master/20140915-mining-worker-fatalities\n",
      "http://rawgit.com/insideenergy/Data-for-stories/master/20140915-mining-worker-fatalities/mining-worker-fatalities-1930-2013.csv\n",
      "http://rawgit.com/insideenergy/Data-for-stories/master/20140915-mining-worker-fatalities/mining-worker-fatalities-1930-2013.xlsx\n"
     ]
    }
   ],
   "source": [
    "import bs4\n",
    "import requests\n",
    "\n",
    "def makeCode(folder):\n",
    "    x = requests.get(folder)\n",
    "    x.raise_for_status()\n",
    "    gitSoup = bs4.BeautifulSoup(x.text)\n",
    "    files = gitSoup.select('.js-directory-link') #get tag with URL for each file\n",
    "    urls = []\n",
    "    for f in files:\n",
    "        urls.append(f.get('href')) #put urls into list\n",
    "    # print urls\n",
    "    for u in urls:\n",
    "        if \"README.md\" in u:\n",
    "            urls.remove(u) #get README out of list\n",
    "            #return urls\n",
    "    #print urls\n",
    "    halfUrls = []\n",
    "    for v in urls:\n",
    "        if \"/InsideEnergy/Data-for-stories/blob/master\" in v:\n",
    "            w = v.replace(\"/InsideEnergy/Data-for-stories/blob/master\", \"\")\n",
    "            halfUrls.append(w)\n",
    "    csvFile = halfUrls[0]\n",
    "    codeHasCsv = \"http://rawgit.com/insideenergy/Data-for-stories/master%s\" % csvFile\n",
    "    print codeHasCsv\n",
    "    xlsFile = halfUrls[1]\n",
    "    codeHasXls = \"http://rawgit.com/insideenergy/Data-for-stories/master%s\" % xlsFile\n",
    "    print codeHasXls\n",
    "\n",
    "print 'Make the \"Get the Data\" widget code.'\n",
    "print \"Enter GitHub ULR of your new folder inside 'Data-for-stories':\"\n",
    "myFolder = raw_input()\n",
    "makeCode(myFolder)\n"
   ]
  },
  {
   "cell_type": "code",
   "execution_count": 58,
   "metadata": {
    "collapsed": false,
    "scrolled": true
   },
   "outputs": [
    {
     "name": "stdout",
     "output_type": "stream",
     "text": [
      "Make the \"Get the Data\" widget code.\n",
      "Enter GitHub ULR of your new folder inside 'Data-for-stories':\n",
      "https://github.com/InsideEnergy/Data-for-stories/tree/master/20140915-mining-worker-fatalities\n",
      "<small><strong> Get the data: <a href='http://rawgit.com/insideenergy/Data-for-stories/master/20140915-mining-worker-fatalities/mining-worker-fatalities-1930-2013.csv'>CSV</a> | <a href='http://rawgit.com/insideenergy/Data-for-stories/master/20140915-mining-worker-fatalities/mining-worker-fatalities-1930-2013.xlsx'>XLS</a> | <a href='GOOGLE SHEETS LINK YOU JUST MADE' target='_blank'>Google Sheets</a> | Source and notes: <a href='https://github.com/InsideEnergy/Data-for-stories/tree/master/20140915-mining-worker-fatalities'>Github</a> </strong></small>\n"
     ]
    }
   ],
   "source": [
    "import bs4\n",
    "import requests\n",
    "\n",
    "def makeCode(folder):\n",
    "    x = requests.get(folder)\n",
    "    x.raise_for_status()\n",
    "    gitSoup = bs4.BeautifulSoup(x.text)\n",
    "    files = gitSoup.select('.js-directory-link') #get tag with URL for each file\n",
    "    urls = []\n",
    "    for f in files:\n",
    "        urls.append(f.get('href')) #put urls into list\n",
    "    # print urls\n",
    "    for u in urls:\n",
    "        if \"README.md\" in u:\n",
    "            urls.remove(u) #get README out of list\n",
    "            #return urls\n",
    "    #print urls\n",
    "    halfUrls = []\n",
    "    for v in urls:\n",
    "        if \"/InsideEnergy/Data-for-stories/blob/master\" in v:\n",
    "            w = v.replace(\"/InsideEnergy/Data-for-stories/blob/master\", \"\")\n",
    "            halfUrls.append(w)\n",
    "    csvFile = halfUrls[0]\n",
    "    codeHasCsv = \"http://rawgit.com/insideenergy/Data-for-stories/master%s\" % csvFile\n",
    "    #print codeHasCsv\n",
    "    xlsFile = halfUrls[1]\n",
    "    codeHasXls = \"http://rawgit.com/insideenergy/Data-for-stories/master%s\" % xlsFile\n",
    "    #print codeHasXls\n",
    "    widgetCode = \"<small><strong> Get the data: <a href='\" + codeHasCsv + \"'>CSV</a> | <a href='\" + codeHasXls + \"'>XLS</a> | <a href='GOOGLE SHEETS LINK YOU JUST MADE' target='_blank'>Google Sheets</a> | Source and notes: <a href='\" + folder + \"'>Github</a> </strong></small>\"       \n",
    "    print widgetCode\n",
    "\n",
    "print 'Make the \"Get the Data\" widget code.'\n",
    "print \"Enter GitHub ULR of your new folder inside 'Data-for-stories':\"\n",
    "myFolder = raw_input()\n",
    "makeCode(myFolder)\n"
   ]
  },
  {
   "cell_type": "code",
   "execution_count": 59,
   "metadata": {
    "collapsed": false
   },
   "outputs": [
    {
     "name": "stdout",
     "output_type": "stream",
     "text": [
      "Make the \"Get the Data\" widget code.\n",
      "Enter GitHub ULR of your new folder inside 'Data-for-stories':\n",
      "https://github.com/InsideEnergy/Data-for-stories/tree/master/20140822-solar-installations\n",
      "Enter Google Sheet URL for public viewing:\n",
      "https://docs.google.com/spreadsheets/d/1ChpGgdUabNpMeowjeqDyz_5h1Toimgsauyovpi6iW_E/edit?usp=sharing\n",
      "<small><strong> Get the data: <a href='http://rawgit.com/insideenergy/Data-for-stories/master/20140822-solar-installations/median-solar-installation-price-1998-2012.csv'>CSV</a> | <a href='http://rawgit.com/insideenergy/Data-for-stories/master/20140822-solar-installations/median-solar-installation-price-1998-2012.xlsx'>XLS</a> | <a href='https://docs.google.com/spreadsheets/d/1ChpGgdUabNpMeowjeqDyz_5h1Toimgsauyovpi6iW_E/edit?usp=sharing' target='_blank'>Google Sheets</a> | Source and notes: <a href='https://github.com/InsideEnergy/Data-for-stories/tree/master/20140822-solar-installations'>Github</a> </strong></small>\n"
     ]
    }
   ],
   "source": [
    "import bs4\n",
    "import requests\n",
    "\n",
    "def makeCode(folder, sheet):\n",
    "    x = requests.get(folder)\n",
    "    x.raise_for_status()\n",
    "    gitSoup = bs4.BeautifulSoup(x.text)\n",
    "    files = gitSoup.select('.js-directory-link') #get tag with URL for each file\n",
    "    \n",
    "    urls = []\n",
    "    for f in files:\n",
    "        urls.append(f.get('href')) #put urls into list\n",
    "   \n",
    "    for u in urls:\n",
    "        if \"README.md\" in u:\n",
    "            urls.remove(u) #get README out of list\n",
    "            \n",
    "    halfUrls = []\n",
    "    for v in urls:\n",
    "        if \"/InsideEnergy/Data-for-stories/blob/master\" in v:\n",
    "            w = v.replace(\"/InsideEnergy/Data-for-stories/blob/master\", \"\")\n",
    "            halfUrls.append(w) #strip extra stuff off front of url\n",
    "    csvFile = halfUrls[0]\n",
    "    codeHasCsv = \"http://rawgit.com/insideenergy/Data-for-stories/master%s\" % csvFile\n",
    "    xlsFile = halfUrls[1]\n",
    "    codeHasXls = \"http://rawgit.com/insideenergy/Data-for-stories/master%s\" % xlsFile\n",
    "\n",
    "    #now concatonate the code together\n",
    "    widgetCode = \"<small><strong> Get the data: <a href='\" + codeHasCsv + \"'>CSV</a> | <a href='\" + codeHasXls + \"'>XLS</a> | <a href='\" + sheet + \"' target='_blank'>Google Sheets</a> | Source and notes: <a href='\" + folder + \"'>Github</a> </strong></small>\"       \n",
    "    print widgetCode\n",
    "\n",
    "print 'Make the \"Get the Data\" widget code.'\n",
    "print \"Enter GitHub ULR of your new folder inside 'Data-for-stories':\"\n",
    "myFolder = raw_input()\n",
    "print \"Enter Google Sheets URL for public viewing:\"\n",
    "mySheet = raw_input()\n",
    "makeCode(myFolder, mySheet)\n"
   ]
  },
  {
   "cell_type": "code",
   "execution_count": 61,
   "metadata": {
    "collapsed": false
   },
   "outputs": [
    {
     "name": "stdout",
     "output_type": "stream",
     "text": [
      "Make the \"Get the Data\" widget code.\n",
      "Enter GitHub ULR of your new folder inside 'Data-for-stories':\n",
      "https://github.com/InsideEnergy/Data-for-stories/tree/master/20140915-mining-worker-fatalities\n",
      "Enter Google Sheets URL for public viewing:\n",
      "https://docs.google.com/spreadsheets/d/1ChpGgdUabNpMeowjeqDyz_5h1Toimgsauyovpi6iW_E/edit?usp=sharing\n",
      "~~~~~~~~~~Widget Code - Paste this below your chart~~~~~~~~~~\n",
      "<small><strong> Get the data: <a href='http://rawgit.com/insideenergy/Data-for-stories/master/20140915-mining-worker-fatalities/mining-worker-fatalities-1930-2013.csv'>CSV</a> | <a href='http://rawgit.com/insideenergy/Data-for-stories/master/20140915-mining-worker-fatalities/mining-worker-fatalities-1930-2013.xlsx'>XLS</a> | <a href='https://docs.google.com/spreadsheets/d/1ChpGgdUabNpMeowjeqDyz_5h1Toimgsauyovpi6iW_E/edit?usp=sharing' target='_blank'>Google Sheets</a> | Source and notes: <a href='https://github.com/InsideEnergy/Data-for-stories/tree/master/20140915-mining-worker-fatalities'>Github</a> </strong></small>\n"
     ]
    }
   ],
   "source": [
    "import bs4\n",
    "import requests\n",
    "\n",
    "def makeCode(folder, sheet):\n",
    "    x = requests.get(folder)\n",
    "    x.raise_for_status()\n",
    "    gitSoup = bs4.BeautifulSoup(x.text)\n",
    "    files = gitSoup.select('.js-directory-link') #get tag with URL for each file\n",
    "    \n",
    "    urls = []\n",
    "    for f in files:\n",
    "        urls.append(f.get('href')) #put urls into list\n",
    "   \n",
    "    for u in urls:\n",
    "        if \"README.md\" in u:\n",
    "            urls.remove(u) #get README out of list\n",
    "            \n",
    "    halfUrls = []\n",
    "    for v in urls:\n",
    "        if \"/InsideEnergy/Data-for-stories/blob/master\" in v:\n",
    "            w = v.replace(\"/InsideEnergy/Data-for-stories/blob/master\", \"\")\n",
    "            halfUrls.append(w) #strip extra stuff off front of url\n",
    "    csvFile = halfUrls[0]\n",
    "    codeHasCsv = \"http://rawgit.com/insideenergy/Data-for-stories/master%s\" % csvFile\n",
    "    xlsFile = halfUrls[1]\n",
    "    codeHasXls = \"http://rawgit.com/insideenergy/Data-for-stories/master%s\" % xlsFile\n",
    "\n",
    "    #now concatonate the code together\n",
    "    widgetCode = \"<small><strong> Get the data: <a href='\" + codeHasCsv + \"'>CSV</a> | <a href='\" + codeHasXls + \"'>XLS</a> | <a href='\" + sheet + \"' target='_blank'>Google Sheets</a> | Source and notes: <a href='\" + folder + \"'>Github</a> </strong></small>\"       \n",
    "    print widgetCode\n",
    "\n",
    "print 'Make the \"Get the Data\" widget code.'\n",
    "print \"Enter GitHub ULR of your new folder inside 'Data-for-stories':\"\n",
    "myFolder = raw_input()\n",
    "print \"Enter Google Sheets URL for public viewing:\"\n",
    "mySheet = raw_input()\n",
    "print \"~~~~~~~~~~Widget Code - Paste this below your chart~~~~~~~~~~\"\n",
    "makeCode(myFolder, mySheet)\n"
   ]
  },
  {
   "cell_type": "code",
   "execution_count": 1,
   "metadata": {
    "collapsed": true
   },
   "outputs": [],
   "source": [
    "#new function needs to strip off .csv and .xlsx\n",
    "#needs to say, if two items match, get rid of duplicate\n",
    "#then add each into its own widget code, enter new sheets input for each one"
   ]
  },
  {
   "cell_type": "code",
   "execution_count": 9,
   "metadata": {
    "collapsed": false
   },
   "outputs": [
    {
     "name": "stdout",
     "output_type": "stream",
     "text": [
      "Make the \"Get the Data\" widget code.\n",
      "Enter GitHub ULR of your new folder inside 'Data-for-stories':\n",
      "https://github.com/InsideEnergy/Data-for-stories/tree/master/20140915-mining-worker-fatalities\n"
     ]
    },
    {
     "data": {
      "text/plain": [
       "['/20140915-mining-worker-fatalities/mining-worker-fatalities-1930-2013.csv',\n",
       " '/20140915-mining-worker-fatalities/mining-worker-fatalities-1930-2013.xlsx']"
      ]
     },
     "execution_count": 9,
     "metadata": {},
     "output_type": "execute_result"
    }
   ],
   "source": [
    "import bs4\n",
    "import requests\n",
    "\n",
    "def stripUrls(folder):\n",
    "    x = requests.get(folder)\n",
    "    x.raise_for_status()\n",
    "    gitSoup = bs4.BeautifulSoup(x.text)\n",
    "    files = gitSoup.select('.js-directory-link') #get tag with URL for each file\n",
    "    urls = []\n",
    "    for f in files:\n",
    "        urls.append(f.get('href')) #put urls into list\n",
    "    # print urls\n",
    "    for u in urls:\n",
    "        if \"README.md\" in u:\n",
    "            urls.remove(u) #get README out of list\n",
    "            #return urls\n",
    "    #print urls\n",
    "    halfUrls = []\n",
    "    for v in urls:\n",
    "        if \"/InsideEnergy/Data-for-stories/blob/master\" in v:\n",
    "            w = v.replace(\"/InsideEnergy/Data-for-stories/blob/master\", \"\")\n",
    "            halfUrls.append(w)\n",
    "    return halfUrls\n",
    "        \n",
    "print 'Make the \"Get the Data\" widget code.'\n",
    "print \"Enter GitHub ULR of your new folder inside 'Data-for-stories':\"\n",
    "myFolder = raw_input()\n",
    "stripUrls(myFolder)"
   ]
  },
  {
   "cell_type": "code",
   "execution_count": 2,
   "metadata": {
    "collapsed": false
   },
   "outputs": [
    {
     "name": "stdout",
     "output_type": "stream",
     "text": [
      "Make the \"Get the Data\" widget code.\n",
      "Enter GitHub ULR of your new folder inside 'Data-for-stories':\n",
      "https://github.com/InsideEnergy/Data-for-stories/tree/master/20140915-mining-worker-fatalities\n",
      "['/20140915-mining-worker-fatalities/mining-worker-fatalities-1930-2013.csv', '/20140915-mining-worker-fatalities/mining-worker-fatalities-1930-2013.xlsx']\n",
      "['/20140915-mining-worker-fatalities/mining-worker-fatalities-1930-2013', '/20140915-mining-worker-fatalities/mining-worker-fatalities-1930-2013']\n"
     ]
    }
   ],
   "source": [
    "import bs4\n",
    "import requests\n",
    "\n",
    "def stripUrls(folder):\n",
    "    x = requests.get(folder)\n",
    "    x.raise_for_status()\n",
    "    gitSoup = bs4.BeautifulSoup(x.text)\n",
    "    files = gitSoup.select('.js-directory-link') #get tag with URL for each file\n",
    "    urls = []\n",
    "    for f in files:\n",
    "        urls.append(f.get('href')) #put urls into list\n",
    "    # print urls\n",
    "    for u in urls:\n",
    "        if \"README.md\" in u:\n",
    "            urls.remove(u) #get README out of list\n",
    "\n",
    "    halfUrls = []\n",
    "    for v in urls:\n",
    "        if \"/InsideEnergy/Data-for-stories/blob/master\" in v:\n",
    "            w = v.replace(\"/InsideEnergy/Data-for-stories/blob/master\", \"\")\n",
    "            halfUrls.append(w)\n",
    "    print halfUrls\n",
    "    justFolders = []\n",
    "    for x in halfUrls:\n",
    "        if \".csv\" in x:\n",
    "            y = x.replace(\".csv\", \"\")\n",
    "            justFolders.append(y)\n",
    "        if \".xlsx\" in x:\n",
    "            z = x.replace(\".xlsx\", \"\")\n",
    "            justFolders.append(z)\n",
    "    print justFolders #gets file extensions off\n",
    "    \n",
    "        \n",
    "print 'Make the \"Get the Data\" widget code.'\n",
    "print \"Enter GitHub ULR of your new folder inside 'Data-for-stories':\"\n",
    "myFolder = raw_input()\n",
    "stripUrls(myFolder)"
   ]
  },
  {
   "cell_type": "code",
   "execution_count": null,
   "metadata": {
    "collapsed": true
   },
   "outputs": [],
   "source": []
  }
 ],
 "metadata": {
  "kernelspec": {
   "display_name": "Python 2",
   "language": "python",
   "name": "python2"
  },
  "language_info": {
   "codemirror_mode": {
    "name": "ipython",
    "version": 2
   },
   "file_extension": ".py",
   "mimetype": "text/x-python",
   "name": "python",
   "nbconvert_exporter": "python",
   "pygments_lexer": "ipython2",
   "version": "2.7.9"
  }
 },
 "nbformat": 4,
 "nbformat_minor": 0
}
